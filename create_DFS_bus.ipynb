{
 "cells": [
  {
   "cell_type": "code",
   "execution_count": 1,
   "metadata": {},
   "outputs": [],
   "source": [
    "import pandas as pd\n",
    "pd.set_option('max_colwidth', 200)\n",
    "import matplotlib\n",
    "import matplotlib.pyplot as plt\n",
    "import matplotlib.colors as pltc\n",
    "import seaborn as sns \n",
    "sns.set()\n",
    "import os\n",
    "from os import listdir\n",
    "from os.path import isfile, join\n",
    "import csv\n",
    "import numpy as np\n",
    "%matplotlib inline\n",
    "from random import sample\n",
    "from math import sin, cos, sqrt, atan2, radians, acos\n",
    "import numpy as np\n",
    "import math\n",
    "import copy\n",
    "import time\n",
    "from datetime import datetime, timedelta\n",
    "\n"
   ]
  },
  {
   "cell_type": "code",
   "execution_count": 2,
   "metadata": {},
   "outputs": [],
   "source": [
    "#stop_times table only weekday schedules\n",
    "#arrival_time_fix and departure_time_fix are the times in seconds \n",
    "weekday_stop_time_fixed =  pd.read_csv(r'weekday_stop_time_fixed.csv', sep=\",\", engine='python')\n",
    "\n",
    "# route_short_name == the bus number\n",
    "# the trip_id can be linked with the trip id in stop times\n",
    "# trip id is unique to each row. \n",
    "trips =  pd.read_csv(r'C:\\\\Users\\\\이진우\\\\cs_summer\\\\Jin_project\\\\mmt_gtfs\\\\trips.txt', sep=\",\", engine='python')\n"
   ]
  },
  {
   "cell_type": "code",
   "execution_count": 3,
   "metadata": {},
   "outputs": [],
   "source": [
    "#stop_times table only weekday schedules\n",
    "#arrival_time_fix and departure_time_fix are the times in seconds \n",
    "trip_table_fixed =  pd.read_csv(r'trip_table_fixed.csv', sep=\",\", engine='python')"
   ]
  },
  {
   "cell_type": "code",
   "execution_count": 4,
   "metadata": {},
   "outputs": [],
   "source": [
    "#create graph\n",
    "graph = {}\n",
    "unique_table=trip_table_fixed.groupby(['full_bus_name','trip_id', 'stop_id_time']).size().reset_index()\n",
    "for index, row in unique_table.iterrows(): \n",
    "    bus_name = unique_table.loc[index, 'full_bus_name']\n",
    "    graph[bus_name] = {}\n",
    "for index, row in unique_table.iterrows(): \n",
    "    bus_name = unique_table.loc[index, 'full_bus_name']\n",
    "    bus_trip_id = unique_table.loc[index, 'trip_id']\n",
    "    stop_id = unique_table.loc[index, 'stop_id_time']    \n",
    "    graph[bus_name][bus_trip_id] = set([])\n",
    "\n",
    "    \n"
   ]
  },
  {
   "cell_type": "code",
   "execution_count": 5,
   "metadata": {},
   "outputs": [],
   "source": [
    "graph_ready = copy.deepcopy(graph)"
   ]
  },
  {
   "cell_type": "code",
   "execution_count": 6,
   "metadata": {},
   "outputs": [],
   "source": [
    "#create graph form \n",
    "#bus#:set([bus_stops])\n",
    "for index, row in trip_table_fixed.iterrows():\n",
    "    route_name = row['full_bus_name']\n",
    "    stop_id = row['stop_id_time']\n",
    "    trip_id = row['trip_id']\n",
    "    try:\n",
    "        graph_ready[route_name][trip_id].add(stop_id)\n",
    "    except:\n",
    "        print(route_name, stop_id, trip_id)\n",
    "        break"
   ]
  },
  {
   "cell_type": "code",
   "execution_count": 7,
   "metadata": {},
   "outputs": [],
   "source": [
    "#since the graph is pre ordered in time, no need to put in any time conditions in the loop!\n",
    "for key in graph_ready:\n",
    "    for trip_id in graph_ready[key]:                   \n",
    "        graph_temp = sorted(list(graph_ready[key][trip_id]), key=lambda x: int(x.split('_')[1]))\n",
    "        graph_ready[key][trip_id] = graph_temp\n"
   ]
  },
  {
   "cell_type": "code",
   "execution_count": 18,
   "metadata": {},
   "outputs": [
    {
     "name": "stdout",
     "output_type": "stream",
     "text": [
      "10_DROP OFFS ONLY\n",
      "11_DROP OFFS ONLY\n",
      "12_DROP OFFS ONLY\n",
      "13_DROP OFFS ONLY\n",
      "14_DROP OFFS ONLY\n",
      "15_DROP OFFS ONLY\n",
      "16_DROP OFFS ONLY\n",
      "17_DROP OFFS ONLY\n",
      "18_DROP OFFS ONLY\n",
      "19_DROP OFFS ONLY\n",
      "1_DROP OFFS ONLY\n",
      "20_DROP OFFS ONLY\n",
      "21_DROP OFFS ONLY\n",
      "22_DROP OFFS ONLY\n",
      "23_DROP OFFS ONLY\n",
      "25_DROP OFFS ONLY\n",
      "26_DROP OFFS ONLY\n",
      "27_DROP OFFS ONLY\n",
      "28_DROP OFFS ONLY\n",
      "29_DROP OFFS ONLY\n",
      "2_DROP OFFS ONLY\n",
      "30_DROP OFFS ONLY\n",
      "31_DROP OFFS ONLY\n",
      "32_DROP OFFS ONLY\n",
      "33_DROP OFFS ONLY\n",
      "34_DROP OFFS ONLY\n",
      "35_DROP OFFS ONLY\n",
      "36_DROP OFFS ONLY\n",
      "37_DROP OFFS ONLY\n",
      "38_DROP OFFS ONLY\n",
      "39_DROP OFFS ONLY\n",
      "3_DROP OFFS ONLY\n",
      "40_DROP OFFS ONLY\n",
      "44_DROP OFFS ONLY\n",
      "47_DROP OFFS ONLY\n",
      "48_DROP OFFS ONLY\n",
      "49_DROP OFFS ONLY\n",
      "4_DROP OFFS ONLY\n",
      "50_DROP OFFS ONLY\n",
      "51_DROP OFFS ONLY\n",
      "52_DROP OFFS ONLY\n",
      "55_DROP OFFS ONLY\n",
      "56_DROP OFFS ONLY\n",
      "57_DROP OFFS ONLY\n",
      "58_DROP OFFS ONLY\n",
      "5_DROP OFFS ONLY\n",
      "67_DROP OFFS ONLY\n",
      "6_DROP OFFS ONLY\n",
      "70_DROP OFFS ONLY\n",
      "71_DROP OFFS ONLY\n",
      "72_DROP OFFS ONLY\n",
      "73_DROP OFFS ONLY\n",
      "75_DROP OFFS ONLY\n",
      "80_DROP OFFS ONLY\n",
      "81_DROP OFFS ONLY\n",
      "82_DROP OFFS ONLY\n",
      "84_DROP OFFS ONLY\n"
     ]
    }
   ],
   "source": [
    "for key in graph_ready:\n",
    "    if 'DROP OFF' in key:\n",
    "        print(key)"
   ]
  },
  {
   "cell_type": "code",
   "execution_count": 11,
   "metadata": {},
   "outputs": [],
   "source": [
    "#star_stop will be a stop with a time in the morning between 7-8 AM \n",
    "def dfs(graph, start_stop):\n",
    "     #bus_key = full_bus_name\n",
    "    stop = start_stop\n",
    "    visited, stack = set(), [stop] #creates the empty list and empty stack to go throu the while loop\n",
    "    \n",
    "    while stack:\n",
    "        vertex = stack.pop() #takes out one of the values from stack\n",
    "        current_time = int(vertex.split('_')[1]) #current time of the stop hit\n",
    "        \n",
    "        #if visited list is empty, this must be the first hit. \n",
    "        #Get all the stops that has the stop hits.\n",
    "        #add the next stops to the stack. \n",
    "        if not visited:\n",
    "            begin_time = int(stop.split('_')[1])\n",
    "            visited.add(vertex)\n",
    "            for bus_name in graph:\n",
    "#                 #buses that drops off only cannot be a starting point\n",
    "#                 if 'DROP OFF' in bus_name:\n",
    "#                     continue\n",
    "                for trip_id in graph[bus_name]:\n",
    "                    try:\n",
    "                        index_of_stop = graph[bus_name][trip_id].index(vertex)\n",
    "                        next_stop = graph[bus_name][trip_id][index_of_stop+1]\n",
    "                        stack.extend([next_stop])\n",
    "                    except: \n",
    "                        continue\n",
    "        else:          \n",
    "            #checks if the time has passed 1 hour.\n",
    "            #if it is more than 1 hour, simply continue to the next node. \n",
    "            if current_time - begin_time < 3600:\n",
    "                if vertex not in visited:\n",
    "                    visited.add(vertex)\n",
    "                    for bus_name in graph:\n",
    "                        for trip_id in graph[bus_name]:\n",
    "#                             if 'DROP OFF' in bus_name:\n",
    "#                                 try:\n",
    "#                                     #check if the previous stop was the same trip id.\n",
    "#                                     #if it is, on the same bus so drop off only is fine\n",
    "#                                     stop_id=drop_off_only[trip_id]\n",
    "#                                     if stop_id == vertex:\n",
    "#                                         pass\n",
    "#                                     else: \n",
    "#                                         continue\n",
    "#                                 except: \n",
    "#                                     continue\n",
    "                            try:\n",
    "                                index_of_stop = graph[bus_name][trip_id].index(vertex)\n",
    "                                next_stop = graph[bus_name][trip_id][index_of_stop+1]\n",
    "                                stack.extend([next_stop])\n",
    "#                                 if 'DROP OFF' in bus_name:\n",
    "#                                     drop_off_only[trip_id] = vertex\n",
    "                            except: \n",
    "                                continue\n",
    "            else: \n",
    "                continue \n",
    "    return visited\n",
    "\n"
   ]
  },
  {
   "cell_type": "code",
   "execution_count": 19,
   "metadata": {},
   "outputs": [],
   "source": [
    "list_of_stops = trip_table_fixed['stop_id_time'].unique()\n",
    "#since the graph is pre ordered in time, no need to put in any time conditions in the loop!\n",
    "list_of_stops_fixed = sorted(list_of_stops, key=lambda x: int(x.split('_')[1]))\n"
   ]
  },
  {
   "cell_type": "code",
   "execution_count": null,
   "metadata": {},
   "outputs": [],
   "source": [
    "dic_of_rows = {}\n",
    "for start_stop in list_of_stops_fixed:\n",
    "    dic_of_rows[start_stop]=[]\n",
    "count = 0\n",
    "#choose a stop to first begin\n",
    "for start_stop in list_of_stops_fixed:\n",
    "    list_of_stop=dfs(graph_ready, start_stop)\n",
    "    dic_of_rows[start_stop].append(list_of_stop)\n",
    "#     if count == 5:\n",
    "#         break\n",
    "#     count += 1\n",
    "    \n",
    "\n",
    "dic_of_rows"
   ]
  },
  {
   "cell_type": "code",
   "execution_count": null,
   "metadata": {},
   "outputs": [],
   "source": []
  },
  {
   "cell_type": "code",
   "execution_count": null,
   "metadata": {},
   "outputs": [],
   "source": []
  }
 ],
 "metadata": {
  "kernelspec": {
   "display_name": "Python 3",
   "language": "python",
   "name": "python3"
  },
  "language_info": {
   "codemirror_mode": {
    "name": "ipython",
    "version": 3
   },
   "file_extension": ".py",
   "mimetype": "text/x-python",
   "name": "python",
   "nbconvert_exporter": "python",
   "pygments_lexer": "ipython3",
   "version": "3.7.4"
  }
 },
 "nbformat": 4,
 "nbformat_minor": 2
}
