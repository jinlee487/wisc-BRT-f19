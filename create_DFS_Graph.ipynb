{
 "cells": [
  {
   "cell_type": "code",
   "execution_count": 1,
   "metadata": {},
   "outputs": [],
   "source": [
    "import pickle\n",
    "import pandas as pd\n",
    "pd.set_option('max_colwidth', 200)\n",
    "import matplotlib\n",
    "import matplotlib.pyplot as plt\n",
    "import matplotlib.colors as pltc\n",
    "import seaborn as sns \n",
    "sns.set()\n",
    "import os\n",
    "from os import listdir\n",
    "from os.path import isfile, join\n",
    "import csv\n",
    "import numpy as np\n",
    "%matplotlib inline\n",
    "from random import sample\n",
    "from math import sin, cos, sqrt, atan2, radians, acos\n",
    "import numpy as np\n",
    "import math\n",
    "import copy\n",
    "import time\n",
    "from datetime import datetime, timedelta\n",
    "\n"
   ]
  },
  {
   "cell_type": "code",
   "execution_count": 2,
   "metadata": {},
   "outputs": [],
   "source": [
    "#stop_times table only weekday schedules\n",
    "#arrival_time_fix and departure_time_fix are the times in seconds \n",
    "trip_table_fixed =  pd.read_csv(r'trip_table_fixed.csv', sep=\",\", engine='python')"
   ]
  },
  {
   "cell_type": "code",
   "execution_count": 3,
   "metadata": {},
   "outputs": [],
   "source": [
    "########OPTIONAL##########\n",
    "#select only the 2 hour time frame of 7-9 am from trip_table_fixed\n",
    "trip_table_fixed = trip_table_fixed[trip_table_fixed['arrival_time_fix'].between(25200, 32400, inclusive=True)]"
   ]
  },
  {
   "cell_type": "code",
   "execution_count": 4,
   "metadata": {},
   "outputs": [],
   "source": [
    "#create graph\n",
    "graph = {}\n",
    "unique_table=trip_table_fixed.groupby(['full_bus_name','trip_id', 'stop_id_time']).size().reset_index()\n",
    "for index, row in unique_table.iterrows(): \n",
    "    bus_name = unique_table.loc[index, 'full_bus_name']\n",
    "    graph[bus_name] = {}\n",
    "for index, row in unique_table.iterrows(): \n",
    "    bus_name = unique_table.loc[index, 'full_bus_name']\n",
    "    bus_trip_id = unique_table.loc[index, 'trip_id']\n",
    "    stop_id = unique_table.loc[index, 'stop_id_time']    \n",
    "    graph[bus_name][bus_trip_id] = set([])\n",
    "graph_ready = copy.deepcopy(graph)\n",
    "    \n"
   ]
  },
  {
   "cell_type": "code",
   "execution_count": 5,
   "metadata": {},
   "outputs": [],
   "source": [
    "#create graph form \n",
    "#bus#:set([bus_stops])\n",
    "for index, row in trip_table_fixed.iterrows():\n",
    "    route_name = row['full_bus_name']\n",
    "    stop_id = row['stop_id_time']\n",
    "    trip_id = row['trip_id']\n",
    "    try:\n",
    "        graph_ready[route_name][trip_id].add(stop_id)\n",
    "    except:\n",
    "        print(route_name, stop_id, trip_id)\n",
    "        break"
   ]
  },
  {
   "cell_type": "code",
   "execution_count": 6,
   "metadata": {},
   "outputs": [],
   "source": [
    "#since the graph is pre ordered in time, no need to put in any time conditions in the loop!\n",
    "for key in graph_ready:\n",
    "    for trip_id in graph_ready[key]:                   \n",
    "        graph_temp = sorted(list(graph_ready[key][trip_id]), key=lambda x: int(x.split('_')[1]))\n",
    "        graph_ready[key][trip_id] = graph_temp\n"
   ]
  },
  {
   "cell_type": "code",
   "execution_count": 8,
   "metadata": {},
   "outputs": [],
   "source": [
    "#graph_ready"
   ]
  },
  {
   "cell_type": "code",
   "execution_count": 9,
   "metadata": {},
   "outputs": [],
   "source": [
    "count = 0 \n",
    "count_list = []\n",
    "graph_final = {}\n",
    "node = trip_table_fixed['stop_id_time'].unique()\n",
    "for stop_id_time in node:\n",
    "    stop_id = stop_id_time.split('_')[0]\n",
    "    stop_time = int(stop_id_time.split('_')[1]) #current time\n",
    "    #wait time is 15 min \n",
    "    stop_time_30 = stop_time+1800\n",
    "    graph_final[stop_id_time] = [] \n",
    "    for bus_name in graph_ready:\n",
    "        for trip_id in graph_ready[bus_name]:\n",
    "            stops_list = graph_ready[bus_name][trip_id]\n",
    "            stops_only_list =[stops_with_time.split('_', 1)[0] for stops_with_time in stops_list]\n",
    "\n",
    "            #gets the first hit. But a trip_id should not have multiple same stops\n",
    "            try:\n",
    "                index_of_stop = stops_only_list.index(stop_id)\n",
    "            except:\n",
    "                continue\n",
    "            matching = [s for s in stops_only_list if stop_id == s]\n",
    "\n",
    "            #check if the trip_id could possibly have two hits on a stop_id\n",
    "            if len(matching) > 1: \n",
    "                print('error - trip_id has multiple same stop_ids')\n",
    "                print(stop_id,bus_name,trip_id,stops_list)\n",
    "                pass\n",
    "\n",
    "            current_stop = stops_list[index_of_stop]\n",
    "            current_stop_time = int(current_stop.split('_')[1])\n",
    "            #check if the stop time for that bus is within 15 min wait\n",
    "            if stop_time <= current_stop_time and current_stop_time <= stop_time_30: \n",
    "                #if this trip_id is the last stop, continue to the next trip_id\n",
    "                try:\n",
    "                    next_stop = stops_list[index_of_stop+1]\n",
    "                    next_stop_id = next_stop.split('_')[0]\n",
    "                    next_stop_time = next_stop.split('_')[1]\n",
    "                except: \n",
    "                    continue\n",
    "                travel_time = int(next_stop_time) - int(stop_time)    \n",
    "                dic = {'destination': next_stop, 'travel_time': travel_time, 'trip_id': trip_id, 'bus_name': bus_name} \n",
    "                ###final step\n",
    "                graph_final[stop_id_time].append(dic)\n",
    "            else:\n",
    "                continue #for trip_id in graph[bus_name]:\n",
    "\n",
    "    "
   ]
  },
  {
   "cell_type": "code",
   "execution_count": 18,
   "metadata": {},
   "outputs": [
    {
     "name": "stdout",
     "output_type": "stream",
     "text": [
      "('1561_25223', [{'destination': '1341_25256', 'travel_time': 33, 'trip_id': 899624, 'bus_name': '22_NORTH TRANSFER: VIA MENDOTA'}, {'destination': '1341_26216', 'travel_time': 993, 'trip_id': 899625, 'bus_name': '22_NORTH TRANSFER: VIA MENDOTA'}, {'destination': '1877_26339', 'travel_time': 1116, 'trip_id': 904832, 'bus_name': '2_NORTH TRANSFER'}, {'destination': '1877_25259', 'travel_time': 36, 'trip_id': 904846, 'bus_name': '2_NORTH TRANSFER'}])\n",
      "('1877_25259', [{'destination': '1759_25736', 'travel_time': 477, 'trip_id': 899623, 'bus_name': '22_NORTH TRANSFER'}, {'destination': '1759_26576', 'travel_time': 1317, 'trip_id': 899624, 'bus_name': '22_NORTH TRANSFER'}, {'destination': '1759_26360', 'travel_time': 1101, 'trip_id': 904832, 'bus_name': '2_NORTH TRANSFER'}, {'destination': '1759_25281', 'travel_time': 22, 'trip_id': 904846, 'bus_name': '2_NORTH TRANSFER'}])\n",
      "('1759_25281', [])\n",
      "('5100_25320', [{'destination': '1895_27042', 'travel_time': 1722, 'trip_id': 898063, 'bus_name': '17_EAST TRANSFER'}, {'destination': '1895_27028', 'travel_time': 1708, 'trip_id': 899057, 'bus_name': '20_E TOWNE: VIA AIRPORT'}, {'destination': '1895_26127', 'travel_time': 807, 'trip_id': 899475, 'bus_name': '21_NORTH TRANSFER: VIA LAKEVIEW'}, {'destination': '1895_27027', 'travel_time': 1707, 'trip_id': 899476, 'bus_name': '21_NORTH TRANSFER: VIA LAKEVIEW'}, {'destination': '1410_26162', 'travel_time': 842, 'trip_id': 899625, 'bus_name': '22_NORTH TRANSFER: VIA MENDOTA'}, {'destination': '1410_27002', 'travel_time': 1682, 'trip_id': 899626, 'bus_name': '22_NORTH TRANSFER: VIA MENDOTA'}, {'destination': '1895_26160', 'travel_time': 840, 'trip_id': 904797, 'bus_name': '27_U.W. CAMPUS: VIA WASHINGTON'}, {'destination': '1504_27026', 'travel_time': 1706, 'trip_id': 900078, 'bus_name': '28_TO U.W. HOSPITAL'}, {'destination': '1504_26186', 'travel_time': 866, 'trip_id': 900081, 'bus_name': '28_TO U.W. HOSPITAL'}, {'destination': '1504_25572', 'travel_time': 252, 'trip_id': 900088, 'bus_name': '28_TO U.W. HOSPITAL'}, {'destination': '1504_25872', 'travel_time': 552, 'trip_id': 900089, 'bus_name': '28_WEST TRANSFER'}, {'destination': '1504_27070', 'travel_time': 1750, 'trip_id': 904880, 'bus_name': '2_WEST TRANSFER: VIA SHERMAN'}, {'destination': '1895_27065', 'travel_time': 1745, 'trip_id': 895428, 'bus_name': '4_SOUTH TRANSFER'}])\n",
      "('435_25202', [{'destination': '941_26760', 'travel_time': 1558, 'trip_id': 896783, 'bus_name': '10_TO WILSON'}, {'destination': '941_26220', 'travel_time': 1018, 'trip_id': 897120, 'bus_name': '11_DUTCH MILL'}, {'destination': '941_26328', 'travel_time': 1126, 'trip_id': 897473, 'bus_name': '14_EAST TRANSFER'}, {'destination': '941_25702', 'travel_time': 500, 'trip_id': 897605, 'bus_name': '15_EAST TRANSFER'}, {'destination': '941_25251', 'travel_time': 49, 'trip_id': 898923, 'bus_name': '19_CAPITOL SQUARE'}, {'destination': '941_26581', 'travel_time': 1379, 'trip_id': 904791, 'bus_name': '27_NORTH TRANSFER: VIA JOHNSON'}, {'destination': '941_26131', 'travel_time': 929, 'trip_id': 904845, 'bus_name': '2_CAPITOL SQUARE'}, {'destination': '941_25231', 'travel_time': 29, 'trip_id': 904832, 'bus_name': '2_NORTH TRANSFER: VIA SHERMAN'}, {'destination': '941_26700', 'travel_time': 1498, 'trip_id': 901140, 'bus_name': '37_PFLAUM'}, {'destination': '941_25685', 'travel_time': 483, 'trip_id': 895174, 'bus_name': '3_EAST TRANSFER: VIA DIVISION'}, {'destination': '941_26302', 'travel_time': 1100, 'trip_id': 901556, 'bus_name': '47_CAPITOL SQUARE: VIA PARK'}, {'destination': '941_25333', 'travel_time': 131, 'trip_id': 902104, 'bus_name': '56_NORTH TRANSFER'}, {'destination': '941_26208', 'travel_time': 1006, 'trip_id': 902156, 'bus_name': '57_NORTH TRANSFER'}, {'destination': '941_26671', 'travel_time': 1469, 'trip_id': 902226, 'bus_name': '58_CAPITOL SQUARE'}, {'destination': '941_25822', 'travel_time': 620, 'trip_id': 902908, 'bus_name': '71_CAPITOL SQUARE'}, {'destination': '941_26688', 'travel_time': 1486, 'trip_id': 902966, 'bus_name': '72_CAPITOL SQUARE'}])\n",
      "('941_25231', [{'destination': '470_26811', 'travel_time': 1580, 'trip_id': 896783, 'bus_name': '10_TO WILSON'}, {'destination': '470_26254', 'travel_time': 1023, 'trip_id': 897120, 'bus_name': '11_DUTCH MILL'}, {'destination': '839_26436', 'travel_time': 1205, 'trip_id': 897473, 'bus_name': '14_EAST TRANSFER'}, {'destination': '839_25798', 'travel_time': 567, 'trip_id': 897605, 'bus_name': '15_EAST TRANSFER'}, {'destination': '470_25303', 'travel_time': 72, 'trip_id': 898923, 'bus_name': '19_CAPITOL SQUARE'}, {'destination': '839_26636', 'travel_time': 1405, 'trip_id': 904791, 'bus_name': '27_NORTH TRANSFER: VIA JOHNSON'}, {'destination': '839_26223', 'travel_time': 992, 'trip_id': 904845, 'bus_name': '2_CAPITOL SQUARE'}, {'destination': '839_25323', 'travel_time': 92, 'trip_id': 904832, 'bus_name': '2_NORTH TRANSFER: VIA SHERMAN'}, {'destination': '839_26825', 'travel_time': 1594, 'trip_id': 901140, 'bus_name': '37_PFLAUM'}, {'destination': '839_25786', 'travel_time': 555, 'trip_id': 895174, 'bus_name': '3_EAST TRANSFER: VIA DIVISION'}, {'destination': '839_26397', 'travel_time': 1166, 'trip_id': 901556, 'bus_name': '47_CAPITOL SQUARE: VIA PARK'}, {'destination': '839_25453', 'travel_time': 222, 'trip_id': 902104, 'bus_name': '56_NORTH TRANSFER'}, {'destination': '839_26316', 'travel_time': 1085, 'trip_id': 902156, 'bus_name': '57_NORTH TRANSFER'}, {'destination': '839_26763', 'travel_time': 1532, 'trip_id': 902226, 'bus_name': '58_CAPITOL SQUARE'}, {'destination': '839_25918', 'travel_time': 687, 'trip_id': 902908, 'bus_name': '71_CAPITOL SQUARE'}, {'destination': '839_26796', 'travel_time': 1565, 'trip_id': 902966, 'bus_name': '72_CAPITOL SQUARE'}])\n",
      "('839_25323', [{'destination': '883_26520', 'travel_time': 1197, 'trip_id': 897473, 'bus_name': '14_EAST TRANSFER'}, {'destination': '883_25873', 'travel_time': 550, 'trip_id': 897605, 'bus_name': '15_EAST TRANSFER'}, {'destination': '567_26685', 'travel_time': 1362, 'trip_id': 904791, 'bus_name': '27_NORTH TRANSFER: VIA JOHNSON'}, {'destination': '883_26294', 'travel_time': 971, 'trip_id': 904845, 'bus_name': '2_CAPITOL SQUARE'}, {'destination': '883_25394', 'travel_time': 71, 'trip_id': 904832, 'bus_name': '2_NORTH TRANSFER: VIA SHERMAN'}, {'destination': '883_26922', 'travel_time': 1599, 'trip_id': 901140, 'bus_name': '37_PFLAUM'}, {'destination': '883_25865', 'travel_time': 542, 'trip_id': 895174, 'bus_name': '3_EAST TRANSFER: VIA DIVISION'}, {'destination': '883_26471', 'travel_time': 1148, 'trip_id': 901556, 'bus_name': '47_CAPITOL SQUARE: VIA PARK'}, {'destination': '883_25546', 'travel_time': 223, 'trip_id': 902104, 'bus_name': '56_NORTH TRANSFER'}, {'destination': '883_26400', 'travel_time': 1077, 'trip_id': 902156, 'bus_name': '57_NORTH TRANSFER'}, {'destination': '883_26834', 'travel_time': 1511, 'trip_id': 902226, 'bus_name': '58_CAPITOL SQUARE'}, {'destination': '883_25993', 'travel_time': 670, 'trip_id': 902908, 'bus_name': '71_CAPITOL SQUARE'}, {'destination': '883_26880', 'travel_time': 1557, 'trip_id': 902966, 'bus_name': '72_CAPITOL SQUARE'}])\n",
      "('883_25394', [{'destination': '1324_26570', 'travel_time': 1176, 'trip_id': 897473, 'bus_name': '14_EAST TRANSFER'}, {'destination': '1324_25917', 'travel_time': 523, 'trip_id': 897605, 'bus_name': '15_EAST TRANSFER'}, {'destination': '1324_26336', 'travel_time': 942, 'trip_id': 904845, 'bus_name': '2_CAPITOL SQUARE'}, {'destination': '1324_25436', 'travel_time': 42, 'trip_id': 904832, 'bus_name': '2_NORTH TRANSFER: VIA SHERMAN'}, {'destination': '1324_26980', 'travel_time': 1586, 'trip_id': 901140, 'bus_name': '37_PFLAUM'}, {'destination': '1324_25912', 'travel_time': 518, 'trip_id': 895174, 'bus_name': '3_EAST TRANSFER: VIA DIVISION'}, {'destination': '1324_26515', 'travel_time': 1121, 'trip_id': 901556, 'bus_name': '47_CAPITOL SQUARE: VIA PARK'}, {'destination': '1324_26780', 'travel_time': 1386, 'trip_id': 895401, 'bus_name': '4_NORTH TRANSFER'}, {'destination': '1324_25601', 'travel_time': 207, 'trip_id': 902104, 'bus_name': '56_NORTH TRANSFER'}, {'destination': '1324_26450', 'travel_time': 1056, 'trip_id': 902156, 'bus_name': '57_NORTH TRANSFER'}, {'destination': '1324_26876', 'travel_time': 1482, 'trip_id': 902226, 'bus_name': '58_CAPITOL SQUARE'}, {'destination': '1324_26021', 'travel_time': 627, 'trip_id': 896006, 'bus_name': '6_CAPITOL SQUARE'}, {'destination': '1324_27032', 'travel_time': 1638, 'trip_id': 895993, 'bus_name': '6_E TOWNE: VIA MADISON COLLEGE & HAYES'}, {'destination': '1324_26037', 'travel_time': 643, 'trip_id': 902908, 'bus_name': '71_CAPITOL SQUARE'}, {'destination': '1324_26930', 'travel_time': 1536, 'trip_id': 902966, 'bus_name': '72_CAPITOL SQUARE'}])\n",
      "('1324_25436', [{'destination': '1101_26640', 'travel_time': 1204, 'trip_id': 897473, 'bus_name': '14_EAST TRANSFER'}, {'destination': '1101_25980', 'travel_time': 544, 'trip_id': 897605, 'bus_name': '15_EAST TRANSFER'}, {'destination': '1101_26187', 'travel_time': 751, 'trip_id': 898919, 'bus_name': '19_DUNNS MARSH: VIA MIDVALE'}, {'destination': '1101_26229', 'travel_time': 793, 'trip_id': 904774, 'bus_name': '23_SUN PRAIRIE: VIA AMERICAN CENTER'}, {'destination': '1790_27223', 'travel_time': 1787, 'trip_id': 904797, 'bus_name': '27_U.W. CAMPUS: VIA WASHINGTON'}, {'destination': '1101_25500', 'travel_time': 64, 'trip_id': 904832, 'bus_name': '2_NORTH TRANSFER: VIA SHERMAN'}, {'destination': '1101_27060', 'travel_time': 1624, 'trip_id': 901140, 'bus_name': '37_PFLAUM'}, {'destination': '1101_25980', 'travel_time': 544, 'trip_id': 895174, 'bus_name': '3_EAST TRANSFER: VIA DIVISION'}, {'destination': '1790_26724', 'travel_time': 1288, 'trip_id': 901553, 'bus_name': '47_ARBOR HILLS: VIA WASHINGTON'}, {'destination': '1101_26880', 'travel_time': 1444, 'trip_id': 895401, 'bus_name': '4_NORTH TRANSFER'}, {'destination': '1101_25680', 'travel_time': 244, 'trip_id': 902104, 'bus_name': '56_NORTH TRANSFER'}, {'destination': '1101_26520', 'travel_time': 1084, 'trip_id': 902156, 'bus_name': '57_NORTH TRANSFER'}, {'destination': '1790_25588', 'travel_time': 152, 'trip_id': 895712, 'bus_name': '5_SOUTH TRANSFER'}, {'destination': '1101_27120', 'travel_time': 1684, 'trip_id': 895993, 'bus_name': '6_E TOWNE: VIA MADISON COLLEGE & HAYES'}])\n",
      "('1101_25500', [{'destination': '1787_26047', 'travel_time': 547, 'trip_id': 897163, 'bus_name': '12_WEST TRANSFER'}, {'destination': '1787_26679', 'travel_time': 1179, 'trip_id': 897473, 'bus_name': '14_EAST TRANSFER'}, {'destination': '1787_26019', 'travel_time': 519, 'trip_id': 897605, 'bus_name': '15_EAST TRANSFER'}, {'destination': '1872_26257', 'travel_time': 757, 'trip_id': 898919, 'bus_name': '19_DUNNS MARSH: VIA MIDVALE'}, {'destination': '1787_26266', 'travel_time': 766, 'trip_id': 904774, 'bus_name': '23_SUN PRAIRIE: VIA AMERICAN CENTER'}, {'destination': '1787_26261', 'travel_time': 761, 'trip_id': 904907, 'bus_name': '25_AMERICAN CENTER'}, {'destination': '1787_25543', 'travel_time': 43, 'trip_id': 904832, 'bus_name': '2_NORTH TRANSFER: VIA SHERMAN'}, {'destination': '1787_27099', 'travel_time': 1599, 'trip_id': 901140, 'bus_name': '37_PFLAUM'}, {'destination': '1823_26015', 'travel_time': 515, 'trip_id': 895174, 'bus_name': '3_EAST TRANSFER: VIA DIVISION'}, {'destination': '1787_26620', 'travel_time': 1120, 'trip_id': 901553, 'bus_name': '47_ARBOR HILLS: VIA WASHINGTON'}, {'destination': '1823_26921', 'travel_time': 1421, 'trip_id': 895401, 'bus_name': '4_NORTH TRANSFER'}, {'destination': '1787_25719', 'travel_time': 219, 'trip_id': 902104, 'bus_name': '56_NORTH TRANSFER'}, {'destination': '1787_26559', 'travel_time': 1059, 'trip_id': 902156, 'bus_name': '57_NORTH TRANSFER'}, {'destination': '1787_27247', 'travel_time': 1747, 'trip_id': 902224, 'bus_name': '58_GREENTREE: VIA WATTS'}, {'destination': '1787_26217', 'travel_time': 717, 'trip_id': 895696, 'bus_name': '5_EAST TRANSFER'}, {'destination': '1787_27167', 'travel_time': 1667, 'trip_id': 895993, 'bus_name': '6_E TOWNE: VIA MADISON COLLEGE & HAYES'}, {'destination': '1787_26339', 'travel_time': 839, 'trip_id': 902899, 'bus_name': '71_MIDDLETON: VIA DISCOVERY'}, {'destination': '1787_27247', 'travel_time': 1747, 'trip_id': 902956, 'bus_name': '72_MIDDLETON: VIA ALLEN'}])\n"
     ]
    },
    {
     "data": {
      "text/plain": [
       "[None, None, None, None, None, None, None, None, None, None]"
      ]
     },
     "execution_count": 18,
     "metadata": {},
     "output_type": "execute_result"
    }
   ],
   "source": [
    "#graph_final only partial view for github upload page\n",
    "#https://stackoverflow.com/questions/28704526/in-python-how-to-obtain-a-partial-view-of-a-dict\n",
    "[print(v) for i, v in enumerate(graph_final.items()) if i < 10]"
   ]
  },
  {
   "cell_type": "code",
   "execution_count": 24,
   "metadata": {},
   "outputs": [],
   "source": []
  },
  {
   "cell_type": "code",
   "execution_count": 13,
   "metadata": {},
   "outputs": [],
   "source": [
    "def save_obj(obj, name ):\n",
    "    with open('obj/'+ name + '.pkl', 'wb') as f:\n",
    "        pickle.dump(obj, f, pickle.HIGHEST_PROTOCOL)\n",
    "\n",
    "def load_obj(name ):\n",
    "    with open('obj/' + name + '.pkl', 'rb') as f:\n",
    "        return pickle.load(f)"
   ]
  },
  {
   "cell_type": "code",
   "execution_count": 14,
   "metadata": {},
   "outputs": [],
   "source": [
    "#save_obj(graph_final, 'DFS_BUS_GRAPH')"
   ]
  },
  {
   "cell_type": "code",
   "execution_count": 16,
   "metadata": {},
   "outputs": [],
   "source": [
    "#load_obj('DFS_BUS_GRAPH')"
   ]
  },
  {
   "cell_type": "code",
   "execution_count": null,
   "metadata": {},
   "outputs": [],
   "source": []
  }
 ],
 "metadata": {
  "kernelspec": {
   "display_name": "Python 3",
   "language": "python",
   "name": "python3"
  },
  "language_info": {
   "codemirror_mode": {
    "name": "ipython",
    "version": 3
   },
   "file_extension": ".py",
   "mimetype": "text/x-python",
   "name": "python",
   "nbconvert_exporter": "python",
   "pygments_lexer": "ipython3",
   "version": "3.6.6"
  }
 },
 "nbformat": 4,
 "nbformat_minor": 2
}
